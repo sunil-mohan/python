{
  "nbformat": 4,
  "nbformat_minor": 0,
  "metadata": {
    "colab": {
      "name": "Copy of Day 2 (04/12/2019)",
      "provenance": [],
      "collapsed_sections": []
    },
    "kernelspec": {
      "name": "python3",
      "display_name": "Python 3"
    }
  },
  "cells": [
    {
      "cell_type": "code",
      "metadata": {
        "id": "VOI37ijdWFwz",
        "colab_type": "code",
        "colab": {}
      },
      "source": [
        ""
      ],
      "execution_count": 0,
      "outputs": []
    },
    {
      "cell_type": "markdown",
      "metadata": {
        "id": "eso-wfhIWF--",
        "colab_type": "text"
      },
      "source": [
        "# loops \n",
        "\n",
        "\n"
      ]
    },
    {
      "cell_type": "code",
      "metadata": {
        "id": "sjQ3GQ2GWmXD",
        "colab_type": "code",
        "outputId": "7cedf6a8-af7e-477d-e0b6-2d5e4ac11342",
        "colab": {
          "base_uri": "https://localhost:8080/",
          "height": 204
        }
      },
      "source": [
        "n =int(input(\"enter a number\"))\n",
        "i=1\n",
        "while i<=n:\n",
        "  print(i)\n",
        "  i=i+1"
      ],
      "execution_count": 0,
      "outputs": [
        {
          "output_type": "stream",
          "text": [
            "enter a number10\n",
            "1\n",
            "2\n",
            "3\n",
            "4\n",
            "5\n",
            "6\n",
            "7\n",
            "8\n",
            "9\n",
            "10\n"
          ],
          "name": "stdout"
        }
      ]
    },
    {
      "cell_type": "code",
      "metadata": {
        "id": "gjkWj7HSYhQO",
        "colab_type": "code",
        "outputId": "4ee3db13-e933-4a6e-bd69-b70a039351fc",
        "colab": {
          "base_uri": "https://localhost:8080/",
          "height": 68
        }
      },
      "source": [
        "n=123\n",
        "sum=0\n",
        "while n!=0:\n",
        "    r =n%10\n",
        "    sum =sum+r\n",
        "    n=n//10\n",
        "    print(sum)\n",
        "\n"
      ],
      "execution_count": 0,
      "outputs": [
        {
          "output_type": "stream",
          "text": [
            "3\n",
            "5\n",
            "6\n"
          ],
          "name": "stdout"
        }
      ]
    },
    {
      "cell_type": "code",
      "metadata": {
        "id": "6JaInzq5dY6j",
        "colab_type": "code",
        "outputId": "6944f576-0040-40e7-fb32-46e6a691be4b",
        "colab": {
          "base_uri": "https://localhost:8080/",
          "height": 119
        }
      },
      "source": [
        "\n",
        "for i in \"python\":\n",
        "  print (i) \n"
      ],
      "execution_count": 0,
      "outputs": [
        {
          "output_type": "stream",
          "text": [
            "p\n",
            "y\n",
            "t\n",
            "h\n",
            "o\n",
            "n\n"
          ],
          "name": "stdout"
        }
      ]
    },
    {
      "cell_type": "code",
      "metadata": {
        "id": "B9e_tZSdcUN1",
        "colab_type": "code",
        "colab": {}
      },
      "source": [
        ""
      ],
      "execution_count": 0,
      "outputs": []
    },
    {
      "cell_type": "markdown",
      "metadata": {
        "id": "X7pvEye0fkCM",
        "colab_type": "text"
      },
      "source": [
        "# When we know the exact number of iteration we use for loop \n",
        "# when we dont know the number of iteration, we use while loop\n"
      ]
    },
    {
      "cell_type": "markdown",
      "metadata": {
        "id": "vcVmovu-iNZF",
        "colab_type": "text"
      },
      "source": [
        "# functional proramming\n",
        "\n",
        "\n",
        "1.   simple\n",
        "2.   easy to understand\n",
        "3.   better usually\n",
        "4.   lengthy program can be divided into sub groups\n",
        "\n",
        "\n",
        "\n",
        "\n",
        "\n",
        "\n",
        "\n",
        "\n",
        "\n",
        "\n"
      ]
    },
    {
      "cell_type": "code",
      "metadata": {
        "id": "7s_BcbIqjGOy",
        "colab_type": "code",
        "colab": {}
      },
      "source": [
        ""
      ],
      "execution_count": 0,
      "outputs": []
    },
    {
      "cell_type": "markdown",
      "metadata": {
        "id": "9cLIrgdCjLm_",
        "colab_type": "text"
      },
      "source": [
        "## Two types of functions\n",
        "     built in functions\n",
        "      user defined functions\n",
        "       "
      ]
    },
    {
      "cell_type": "code",
      "metadata": {
        "id": "k7VtWMT_jiJj",
        "colab_type": "code",
        "colab": {}
      },
      "source": [
        ""
      ],
      "execution_count": 0,
      "outputs": []
    },
    {
      "cell_type": "markdown",
      "metadata": {
        "id": "-bGbHfyJjljX",
        "colab_type": "text"
      },
      "source": [
        "## syntax:\n",
        "## def function_name (parameter)\n",
        "    ## statements\n",
        "    ## return( it can return multiple values)"
      ]
    },
    {
      "cell_type": "code",
      "metadata": {
        "id": "p3_tZElZkE8D",
        "colab_type": "code",
        "outputId": "1086d60f-5c11-4f3f-ee70-ac3cfa24659e",
        "colab": {
          "base_uri": "https://localhost:8080/",
          "height": 34
        }
      },
      "source": [
        "# addition of two numbers\n",
        "def addition(a,b):\n",
        "   c=a+b \n",
        "   print(c)\n",
        "addition (1,5)"
      ],
      "execution_count": 0,
      "outputs": [
        {
          "output_type": "stream",
          "text": [
            "6\n"
          ],
          "name": "stdout"
        }
      ]
    },
    {
      "cell_type": "code",
      "metadata": {
        "id": "4ZwHaQVglPv8",
        "colab_type": "code",
        "outputId": "5e499686-19e1-4e0c-95c6-a24adfa50cfc",
        "colab": {
          "base_uri": "https://localhost:8080/",
          "height": 34
        }
      },
      "source": [
        "def EvenDigitSum(n):\n",
        "  sum = 0\n",
        "  while n!=0:\n",
        "      r= n%10\n",
        "      if r%2==0:\n",
        "        sum=sum+r\n",
        "      n = n//10\n",
        "  return sum\n",
        "EvenDigitSum(1234)"
      ],
      "execution_count": 0,
      "outputs": [
        {
          "output_type": "execute_result",
          "data": {
            "text/plain": [
              "6"
            ]
          },
          "metadata": {
            "tags": []
          },
          "execution_count": 39
        }
      ]
    },
    {
      "cell_type": "code",
      "metadata": {
        "id": "OTgJvzo1o7__",
        "colab_type": "code",
        "colab": {}
      },
      "source": [
        "# input: 19535\n",
        "## output:9(print the largest digit from the number)"
      ],
      "execution_count": 0,
      "outputs": []
    },
    {
      "cell_type": "code",
      "metadata": {
        "id": "MXKKpS-VpTKS",
        "colab_type": "code",
        "outputId": "47c25ed5-8a98-4181-bcd4-056caa67d4db",
        "colab": {
          "base_uri": "https://localhost:8080/",
          "height": 34
        }
      },
      "source": [
        "def largedigit(n):\n",
        "  large =0\n",
        "  while n!=0:\n",
        "    r=n%10\n",
        "    if large<r:\n",
        "      large = r\n",
        "    n=n//10\n",
        "  return large\n",
        "largedigit(14638)  \n"
      ],
      "execution_count": 0,
      "outputs": [
        {
          "output_type": "execute_result",
          "data": {
            "text/plain": [
              "8"
            ]
          },
          "metadata": {
            "tags": []
          },
          "execution_count": 47
        }
      ]
    },
    {
      "cell_type": "code",
      "metadata": {
        "id": "EV1B_SrYrKw1",
        "colab_type": "code",
        "outputId": "7d34f728-ae14-4e2c-d767-5564b94f6e87",
        "colab": {
          "base_uri": "https://localhost:8080/",
          "height": 34
        }
      },
      "source": [
        "def largedigit(n):\n",
        "  large =8\n",
        "  while n!=0:\n",
        "    r=n%10\n",
        "    if large>r:\n",
        "      large = r\n",
        "    n=n//10\n",
        "  return large\n",
        "largedigit(14638)  \n"
      ],
      "execution_count": 0,
      "outputs": [
        {
          "output_type": "execute_result",
          "data": {
            "text/plain": [
              "1"
            ]
          },
          "metadata": {
            "tags": []
          },
          "execution_count": 50
        }
      ]
    },
    {
      "cell_type": "code",
      "metadata": {
        "id": "Fybg-aYcvwId",
        "colab_type": "code",
        "colab": {}
      },
      "source": [
        ""
      ],
      "execution_count": 0,
      "outputs": []
    },
    {
      "cell_type": "code",
      "metadata": {
        "id": "eldOk5vCsZ4d",
        "colab_type": "code",
        "colab": {}
      },
      "source": [
        "# read a number as a input\n",
        "# output: a palindrome or not "
      ],
      "execution_count": 0,
      "outputs": []
    },
    {
      "cell_type": "code",
      "metadata": {
        "id": "gRLWdyyNj-Gy",
        "colab_type": "code",
        "outputId": "7190b787-4d21-48b3-83c4-2d91c1bcab2e",
        "colab": {
          "base_uri": "https://localhost:8080/",
          "height": 129
        }
      },
      "source": [
        "def palindrome(n):\n",
        "    rev =0\n",
        "    buffer =n\n",
        "      while n!=0\n",
        "        rev = rev*10 +(n%10)\n",
        "        n =n//10\n",
        "      if rev==buffer:\n",
        "        return \"palindrome\"\n",
        "        return \"not palindrome\"\n",
        "    print (palindrome 123)\n"
      ],
      "execution_count": 0,
      "outputs": [
        {
          "output_type": "error",
          "ename": "IndentationError",
          "evalue": "ignored",
          "traceback": [
            "\u001b[0;36m  File \u001b[0;32m\"<ipython-input-53-57c72560487b>\"\u001b[0;36m, line \u001b[0;32m4\u001b[0m\n\u001b[0;31m    while n!=0\u001b[0m\n\u001b[0m    ^\u001b[0m\n\u001b[0;31mIndentationError\u001b[0m\u001b[0;31m:\u001b[0m unexpected indent\n"
          ]
        }
      ]
    }
  ]
}